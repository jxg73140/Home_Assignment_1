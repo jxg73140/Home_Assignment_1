{
 "cells": [
  {
   "cell_type": "code",
   "execution_count": 4,
   "id": "4a179596",
   "metadata": {},
   "outputs": [
    {
     "name": "stdout",
     "output_type": "stream",
     "text": [
      "Epoch 1/5\n",
      "\u001b[1m1875/1875\u001b[0m \u001b[32m━━━━━━━━━━━━━━━━━━━━\u001b[0m\u001b[37m\u001b[0m \u001b[1m5s\u001b[0m 3ms/step - accuracy: 0.8792 - loss: 0.4266 - val_accuracy: 0.9574 - val_loss: 0.1408\n",
      "Epoch 2/5\n",
      "\u001b[1m1875/1875\u001b[0m \u001b[32m━━━━━━━━━━━━━━━━━━━━\u001b[0m\u001b[37m\u001b[0m \u001b[1m5s\u001b[0m 2ms/step - accuracy: 0.9631 - loss: 0.1232 - val_accuracy: 0.9699 - val_loss: 0.0965\n",
      "Epoch 3/5\n",
      "\u001b[1m1875/1875\u001b[0m \u001b[32m━━━━━━━━━━━━━━━━━━━━\u001b[0m\u001b[37m\u001b[0m \u001b[1m4s\u001b[0m 2ms/step - accuracy: 0.9769 - loss: 0.0788 - val_accuracy: 0.9724 - val_loss: 0.0917\n",
      "Epoch 4/5\n",
      "\u001b[1m1875/1875\u001b[0m \u001b[32m━━━━━━━━━━━━━━━━━━━━\u001b[0m\u001b[37m\u001b[0m \u001b[1m5s\u001b[0m 2ms/step - accuracy: 0.9821 - loss: 0.0608 - val_accuracy: 0.9773 - val_loss: 0.0699\n",
      "Epoch 5/5\n",
      "\u001b[1m1875/1875\u001b[0m \u001b[32m━━━━━━━━━━━━━━━━━━━━\u001b[0m\u001b[37m\u001b[0m \u001b[1m5s\u001b[0m 2ms/step - accuracy: 0.9865 - loss: 0.0434 - val_accuracy: 0.9786 - val_loss: 0.0687\n"
     ]
    },
    {
     "data": {
      "text/plain": [
       "<keras.src.callbacks.history.History at 0x16fc9216880>"
      ]
     },
     "execution_count": 4,
     "metadata": {},
     "output_type": "execute_result"
    }
   ],
   "source": [
    "# Step 1: Import libraries\n",
    "import tensorflow as tf\n",
    "from tensorflow.keras import layers, models\n",
    "from tensorflow.keras.datasets import mnist\n",
    "import datetime\n",
    "\n",
    "# Step 2: Load and preprocess the MNIST dataset\n",
    "(x_train, y_train), (x_test, y_test) = mnist.load_data()\n",
    "x_train = x_train.reshape(-1, 28 * 28).astype('float32') / 255.0  # Flatten and normalize\n",
    "x_test = x_test.reshape(-1, 28 * 28).astype('float32') / 255.0    # Flatten and normalize\n",
    "\n",
    "# Step 3: Build a simple neural network model\n",
    "model = models.Sequential([\n",
    "    layers.Dense(128, activation='relu', input_shape=(28 * 28,)),  # Hidden layer\n",
    "    layers.Dense(10, activation='softmax')  # Output layer\n",
    "])\n",
    "\n",
    "# Step 4: Compile the model\n",
    "model.compile(optimizer='adam',\n",
    "              loss='sparse_categorical_crossentropy',\n",
    "              metrics=['accuracy'])\n",
    "\n",
    "# Step 5: Set up TensorBoard logging\n",
    "log_dir = \"logs/fit/\" + datetime.datetime.now().strftime(\"%Y%m%d-%H%M%S\")\n",
    "tensorboard_callback = tf.keras.callbacks.TensorBoard(log_dir=log_dir, histogram_freq=1)\n",
    "\n",
    "# Step 6: Train the model for 5 epochs\n",
    "model.fit(x_train, y_train, epochs=5, validation_data=(x_test, y_test), callbacks=[tensorboard_callback])\n",
    "\n",
    "# ---- Questions ----\n",
    "# What patterns do you observe in the training and validation accuracy curves?\n",
    "# - When you train the model, you will see two lines: one for training accuracy and one for validation accuracy.\n",
    "# - In the beginning, both lines will go up, which means the model is learning.\n",
    "# - If the training accuracy keeps going up but the validation accuracy stops improving or goes down, \n",
    "#   it means the model is learning only the training data and not generalizing well to new data.\n",
    "\n",
    "# How can you use the plots to detect overfitting?\n",
    "# - Overfitting happens when the model performs well on training data but poorly on validation data.\n",
    "# - If the training loss keeps decreasing but the validation loss starts increasing, it is a sign of overfitting.\n",
    "# - Also, if the training accuracy is much higher than the validation accuracy, it means the model is overfitting.\n",
    "\n",
    "# What happens when you increase the number of epochs?\n",
    "# - Epochs mean how many times the model sees the entire training data.\n",
    "# - If you increase the number of epochs, the model may learn better, but after a point, it might start overfitting.\n",
    "# - You will see the training accuracy improve, but the validation accuracy may stop improving or even decrease.\n"
   ]
  },
  {
   "cell_type": "code",
   "execution_count": 5,
   "id": "ea26b09b",
   "metadata": {},
   "outputs": [],
   "source": [
    "%load_ext tensorboard"
   ]
  },
  {
   "cell_type": "code",
   "execution_count": 6,
   "id": "30a511ec",
   "metadata": {},
   "outputs": [
    {
     "data": {
      "text/html": [
       "\n",
       "      <iframe id=\"tensorboard-frame-bcb2fb7bb71b9ef7\" width=\"100%\" height=\"800\" frameborder=\"0\">\n",
       "      </iframe>\n",
       "      <script>\n",
       "        (function() {\n",
       "          const frame = document.getElementById(\"tensorboard-frame-bcb2fb7bb71b9ef7\");\n",
       "          const url = new URL(\"/\", window.location);\n",
       "          const port = 6007;\n",
       "          if (port) {\n",
       "            url.port = port;\n",
       "          }\n",
       "          frame.src = url;\n",
       "        })();\n",
       "      </script>\n",
       "    "
      ],
      "text/plain": [
       "<IPython.core.display.HTML object>"
      ]
     },
     "metadata": {},
     "output_type": "display_data"
    }
   ],
   "source": [
    "%tensorboard --logdir logs/fit"
   ]
  },
  {
   "cell_type": "code",
   "execution_count": null,
   "id": "ab22e4ea",
   "metadata": {},
   "outputs": [],
   "source": []
  }
 ],
 "metadata": {
  "kernelspec": {
   "display_name": "Python 3 (ipykernel)",
   "language": "python",
   "name": "python3"
  },
  "language_info": {
   "codemirror_mode": {
    "name": "ipython",
    "version": 3
   },
   "file_extension": ".py",
   "mimetype": "text/x-python",
   "name": "python",
   "nbconvert_exporter": "python",
   "pygments_lexer": "ipython3",
   "version": "3.9.4"
  }
 },
 "nbformat": 4,
 "nbformat_minor": 5
}
