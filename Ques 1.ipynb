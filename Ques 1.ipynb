{
 "cells": [
  {
   "cell_type": "code",
   "execution_count": 5,
   "id": "f01b92dc",
   "metadata": {},
   "outputs": [
    {
     "name": "stdout",
     "output_type": "stream",
     "text": [
      "Original Tensor:\n",
      " [[8 9 4 1 4 5]\n",
      " [7 1 7 8 1 7]\n",
      " [5 7 4 7 5 1]\n",
      " [7 7 1 5 7 6]]\n",
      "Rank of the tensor: 2\n",
      "Shape of the tensor: [4 6]\n",
      "Reshaped Tensor (2, 3, 4):\n",
      " [[[8 9 4 1]\n",
      "  [4 5 7 1]\n",
      "  [7 8 1 7]]\n",
      "\n",
      " [[5 7 4 7]\n",
      "  [5 1 7 7]\n",
      "  [1 5 7 6]]]\n",
      "Transposed Tensor (3, 2, 4):\n",
      " [[[8 9 4 1]\n",
      "  [5 7 4 7]]\n",
      "\n",
      " [[4 5 7 1]\n",
      "  [5 1 7 7]]\n",
      "\n",
      " [[7 8 1 7]\n",
      "  [1 5 7 6]]]\n",
      "Broadcasted Tensor:\n",
      " [[[1 2 3 4]\n",
      "  [1 2 3 4]]\n",
      "\n",
      " [[1 2 3 4]\n",
      "  [1 2 3 4]]\n",
      "\n",
      " [[1 2 3 4]\n",
      "  [1 2 3 4]]]\n",
      "Result after Broadcasting and Addition:\n",
      " [[[ 9 11  7  5]\n",
      "  [ 6  9  7 11]]\n",
      "\n",
      " [[ 5  7 10  5]\n",
      "  [ 6  3 10 11]]\n",
      "\n",
      " [[ 8 10  4 11]\n",
      "  [ 2  7 10 10]]]\n",
      "\n",
      "Explanation of Broadcasting:\n",
      "Broadcasting is a way to make tensors of different shapes work together in operations like addition, subtraction, and other TensorFlow automatically stretches the smaller tensor to match the shape of the larger tensor. For example, a tensor of shape (1, 4) is repeated to match the shape (3, 2, 4) so that element-wise addition can be performed.\n"
     ]
    }
   ],
   "source": [
    "import tensorflow as tf\n",
    "\n",
    "# Step 1: Create a random tensor of shape (4, 6)\n",
    "tensor = tf.random.uniform(shape=(4, 6), minval=1, maxval=10, dtype=tf.int32)\n",
    "print(\"Original Tensor:\\n\", tensor.numpy())\n",
    "\n",
    "# Step 2: Find its rank and shape\n",
    "rank = tf.rank(tensor)\n",
    "shape = tf.shape(tensor)\n",
    "print(\"Rank of the tensor:\", rank.numpy())\n",
    "print(\"Shape of the tensor:\", shape.numpy())\n",
    "\n",
    "# Step 3: Reshape it into (2, 3, 4) and transpose it to (3, 2, 4)\n",
    "reshaped_tensor = tf.reshape(tensor, (2, 3, 4))\n",
    "print(\"Reshaped Tensor (2, 3, 4):\\n\", reshaped_tensor.numpy())\n",
    "\n",
    "transposed_tensor = tf.transpose(reshaped_tensor, perm=[1, 0, 2])\n",
    "print(\"Transposed Tensor (3, 2, 4):\\n\", transposed_tensor.numpy())\n",
    "\n",
    "# Step 4: Broadcast a smaller tensor (1, 4) to match the larger tensor and add them\n",
    "small_tensor = tf.constant([[1, 2, 3, 4]])  # Shape (1, 4)\n",
    "broadcasted_tensor = tf.broadcast_to(small_tensor, transposed_tensor.shape)\n",
    "print(\"Broadcasted Tensor:\\n\", broadcasted_tensor.numpy())\n",
    "\n",
    "result = transposed_tensor + broadcasted_tensor\n",
    "print(\"Result after Broadcasting and Addition:\\n\", result.numpy())\n",
    "\n",
    "#5 Question: Explanation of Broadcasting\n",
    "print(\"\\nExplanation of Broadcasting:\")\n",
    "print(\"Broadcasting is a way to make tensors of different shapes work together in operations like addition, subtraction, and other \"\n",
    "      \"TensorFlow automatically stretches the smaller tensor to match the shape of the larger tensor. \"\n",
    "      \"For example, a tensor of shape (1, 4) is repeated to match the shape (3, 2, 4) so that element-wise addition can be performed.\")"
   ]
  },
  {
   "cell_type": "code",
   "execution_count": null,
   "id": "97d8d352",
   "metadata": {},
   "outputs": [],
   "source": []
  }
 ],
 "metadata": {
  "celltoolbar": "Tags",
  "kernelspec": {
   "display_name": "Python 3 (ipykernel)",
   "language": "python",
   "name": "python3"
  },
  "language_info": {
   "codemirror_mode": {
    "name": "ipython",
    "version": 3
   },
   "file_extension": ".py",
   "mimetype": "text/x-python",
   "name": "python",
   "nbconvert_exporter": "python",
   "pygments_lexer": "ipython3",
   "version": "3.9.4"
  }
 },
 "nbformat": 4,
 "nbformat_minor": 5
}
